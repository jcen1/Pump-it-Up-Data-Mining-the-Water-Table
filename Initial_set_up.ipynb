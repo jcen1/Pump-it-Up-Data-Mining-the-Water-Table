{
 "cells": [
  {
   "cell_type": "code",
   "execution_count": 11,
   "metadata": {},
   "outputs": [],
   "source": [
    "# Import Packages\n",
    "\n",
    "import pandas as pd\n",
    "import numpy as np\n",
    "\n",
    "\n",
    "\n",
    "from sklearn.preprocessing import StandardScaler, MinMaxScaler,OneHotEncoder,LabelEncoder\n",
    "\n",
    "\n",
    "from sklearn.pipeline import Pipeline, make_pipeline\n",
    "from sklearn.compose import ColumnTransformer\n",
    "\n",
    "import optuna\n",
    "\n",
    "from sklearn.pipeline import Pipeline\n",
    "\n",
    "from sklearn.model_selection import cross_val_score\n",
    "# from catboost import CatBoostClassifier\n",
    "from xgboost import XGBClassifier\n"
   ]
  },
  {
   "cell_type": "code",
   "execution_count": 2,
   "metadata": {},
   "outputs": [],
   "source": [
    "# Read the data from the \"Data\" folder\n",
    "train_data_label = pd.read_csv('Data/training_set_labels.csv')\n",
    "train_data_values = pd.read_csv('Data/training_set_values.csv')\n"
   ]
  },
  {
   "cell_type": "code",
   "execution_count": 27,
   "metadata": {},
   "outputs": [],
   "source": [
    "X_train = train_data_values.copy()\n",
    "y_train = train_data_label[['status_group']].values.ravel()\n"
   ]
  },
  {
   "cell_type": "markdown",
   "metadata": {},
   "source": [
    "### XGboost"
   ]
  },
  {
   "cell_type": "code",
   "execution_count": 28,
   "metadata": {},
   "outputs": [
    {
     "name": "stdout",
     "output_type": "stream",
     "text": [
      "[11:31:20] WARNING: C:/Users/administrator/workspace/xgboost-win64_release_1.6.0/src/learner.cc:627: \n",
      "Parameters: { \"verbose\" } might not be used.\n",
      "\n",
      "  This could be a false alarm, with some parameters getting used by language bindings but\n",
      "  then being mistakenly passed down to XGBoost core, or some parameter actually being used\n",
      "  but getting flagged wrongly here. Please open an issue if you find any such cases.\n",
      "\n",
      "\n"
     ]
    },
    {
     "data": {
      "text/html": [
       "<style>#sk-container-id-2 {color: black;background-color: white;}#sk-container-id-2 pre{padding: 0;}#sk-container-id-2 div.sk-toggleable {background-color: white;}#sk-container-id-2 label.sk-toggleable__label {cursor: pointer;display: block;width: 100%;margin-bottom: 0;padding: 0.3em;box-sizing: border-box;text-align: center;}#sk-container-id-2 label.sk-toggleable__label-arrow:before {content: \"▸\";float: left;margin-right: 0.25em;color: #696969;}#sk-container-id-2 label.sk-toggleable__label-arrow:hover:before {color: black;}#sk-container-id-2 div.sk-estimator:hover label.sk-toggleable__label-arrow:before {color: black;}#sk-container-id-2 div.sk-toggleable__content {max-height: 0;max-width: 0;overflow: hidden;text-align: left;background-color: #f0f8ff;}#sk-container-id-2 div.sk-toggleable__content pre {margin: 0.2em;color: black;border-radius: 0.25em;background-color: #f0f8ff;}#sk-container-id-2 input.sk-toggleable__control:checked~div.sk-toggleable__content {max-height: 200px;max-width: 100%;overflow: auto;}#sk-container-id-2 input.sk-toggleable__control:checked~label.sk-toggleable__label-arrow:before {content: \"▾\";}#sk-container-id-2 div.sk-estimator input.sk-toggleable__control:checked~label.sk-toggleable__label {background-color: #d4ebff;}#sk-container-id-2 div.sk-label input.sk-toggleable__control:checked~label.sk-toggleable__label {background-color: #d4ebff;}#sk-container-id-2 input.sk-hidden--visually {border: 0;clip: rect(1px 1px 1px 1px);clip: rect(1px, 1px, 1px, 1px);height: 1px;margin: -1px;overflow: hidden;padding: 0;position: absolute;width: 1px;}#sk-container-id-2 div.sk-estimator {font-family: monospace;background-color: #f0f8ff;border: 1px dotted black;border-radius: 0.25em;box-sizing: border-box;margin-bottom: 0.5em;}#sk-container-id-2 div.sk-estimator:hover {background-color: #d4ebff;}#sk-container-id-2 div.sk-parallel-item::after {content: \"\";width: 100%;border-bottom: 1px solid gray;flex-grow: 1;}#sk-container-id-2 div.sk-label:hover label.sk-toggleable__label {background-color: #d4ebff;}#sk-container-id-2 div.sk-serial::before {content: \"\";position: absolute;border-left: 1px solid gray;box-sizing: border-box;top: 0;bottom: 0;left: 50%;z-index: 0;}#sk-container-id-2 div.sk-serial {display: flex;flex-direction: column;align-items: center;background-color: white;padding-right: 0.2em;padding-left: 0.2em;position: relative;}#sk-container-id-2 div.sk-item {position: relative;z-index: 1;}#sk-container-id-2 div.sk-parallel {display: flex;align-items: stretch;justify-content: center;background-color: white;position: relative;}#sk-container-id-2 div.sk-item::before, #sk-container-id-2 div.sk-parallel-item::before {content: \"\";position: absolute;border-left: 1px solid gray;box-sizing: border-box;top: 0;bottom: 0;left: 50%;z-index: -1;}#sk-container-id-2 div.sk-parallel-item {display: flex;flex-direction: column;z-index: 1;position: relative;background-color: white;}#sk-container-id-2 div.sk-parallel-item:first-child::after {align-self: flex-end;width: 50%;}#sk-container-id-2 div.sk-parallel-item:last-child::after {align-self: flex-start;width: 50%;}#sk-container-id-2 div.sk-parallel-item:only-child::after {width: 0;}#sk-container-id-2 div.sk-dashed-wrapped {border: 1px dashed gray;margin: 0 0.4em 0.5em 0.4em;box-sizing: border-box;padding-bottom: 0.4em;background-color: white;}#sk-container-id-2 div.sk-label label {font-family: monospace;font-weight: bold;display: inline-block;line-height: 1.2em;}#sk-container-id-2 div.sk-label-container {text-align: center;}#sk-container-id-2 div.sk-container {/* jupyter's `normalize.less` sets `[hidden] { display: none; }` but bootstrap.min.css set `[hidden] { display: none !important; }` so we also need the `!important` here to be able to override the default hidden behavior on the sphinx rendered scikit-learn.org. See: https://github.com/scikit-learn/scikit-learn/issues/21755 */display: inline-block !important;position: relative;}#sk-container-id-2 div.sk-text-repr-fallback {display: none;}</style><div id=\"sk-container-id-2\" class=\"sk-top-container\"><div class=\"sk-text-repr-fallback\"><pre>Pipeline(steps=[(&#x27;preprocessor&#x27;,\n",
       "                 ColumnTransformer(remainder=&#x27;passthrough&#x27;,\n",
       "                                   transformers=[(&#x27;drop&#x27;, &#x27;drop&#x27;,\n",
       "                                                  [&#x27;id&#x27;, &#x27;date_recorded&#x27;]),\n",
       "                                                 (&#x27;onehot&#x27;, OneHotEncoder(),\n",
       "                                                  [&#x27;funder&#x27;, &#x27;installer&#x27;,\n",
       "                                                   &#x27;wpt_name&#x27;, &#x27;basin&#x27;,\n",
       "                                                   &#x27;subvillage&#x27;, &#x27;region&#x27;,\n",
       "                                                   &#x27;lga&#x27;, &#x27;ward&#x27;,\n",
       "                                                   &#x27;public_meeting&#x27;,\n",
       "                                                   &#x27;recorded_by&#x27;,\n",
       "                                                   &#x27;scheme_management&#x27;,\n",
       "                                                   &#x27;scheme_name&#x27;, &#x27;permit&#x27;,\n",
       "                                                   &#x27;extraction_type&#x27;,\n",
       "                                                   &#x27;extraction_type_group&#x27;,\n",
       "                                                   &#x27;extr...\n",
       "                               gamma=0, gpu_id=-1, grow_policy=&#x27;depthwise&#x27;,\n",
       "                               importance_type=None, interaction_constraints=&#x27;&#x27;,\n",
       "                               learning_rate=0.300000012, max_bin=256,\n",
       "                               max_cat_to_onehot=4, max_delta_step=0,\n",
       "                               max_depth=6, max_leaves=0, min_child_weight=1,\n",
       "                               missing=nan, monotone_constraints=&#x27;()&#x27;,\n",
       "                               n_estimators=100, n_jobs=0, num_parallel_tree=1,\n",
       "                               objective=&#x27;multi:softprob&#x27;, predictor=&#x27;auto&#x27;,\n",
       "                               random_state=0, reg_alpha=0, ...))])</pre><b>In a Jupyter environment, please rerun this cell to show the HTML representation or trust the notebook. <br />On GitHub, the HTML representation is unable to render, please try loading this page with nbviewer.org.</b></div><div class=\"sk-container\" hidden><div class=\"sk-item sk-dashed-wrapped\"><div class=\"sk-label-container\"><div class=\"sk-label sk-toggleable\"><input class=\"sk-toggleable__control sk-hidden--visually\" id=\"sk-estimator-id-10\" type=\"checkbox\" ><label for=\"sk-estimator-id-10\" class=\"sk-toggleable__label sk-toggleable__label-arrow\">Pipeline</label><div class=\"sk-toggleable__content\"><pre>Pipeline(steps=[(&#x27;preprocessor&#x27;,\n",
       "                 ColumnTransformer(remainder=&#x27;passthrough&#x27;,\n",
       "                                   transformers=[(&#x27;drop&#x27;, &#x27;drop&#x27;,\n",
       "                                                  [&#x27;id&#x27;, &#x27;date_recorded&#x27;]),\n",
       "                                                 (&#x27;onehot&#x27;, OneHotEncoder(),\n",
       "                                                  [&#x27;funder&#x27;, &#x27;installer&#x27;,\n",
       "                                                   &#x27;wpt_name&#x27;, &#x27;basin&#x27;,\n",
       "                                                   &#x27;subvillage&#x27;, &#x27;region&#x27;,\n",
       "                                                   &#x27;lga&#x27;, &#x27;ward&#x27;,\n",
       "                                                   &#x27;public_meeting&#x27;,\n",
       "                                                   &#x27;recorded_by&#x27;,\n",
       "                                                   &#x27;scheme_management&#x27;,\n",
       "                                                   &#x27;scheme_name&#x27;, &#x27;permit&#x27;,\n",
       "                                                   &#x27;extraction_type&#x27;,\n",
       "                                                   &#x27;extraction_type_group&#x27;,\n",
       "                                                   &#x27;extr...\n",
       "                               gamma=0, gpu_id=-1, grow_policy=&#x27;depthwise&#x27;,\n",
       "                               importance_type=None, interaction_constraints=&#x27;&#x27;,\n",
       "                               learning_rate=0.300000012, max_bin=256,\n",
       "                               max_cat_to_onehot=4, max_delta_step=0,\n",
       "                               max_depth=6, max_leaves=0, min_child_weight=1,\n",
       "                               missing=nan, monotone_constraints=&#x27;()&#x27;,\n",
       "                               n_estimators=100, n_jobs=0, num_parallel_tree=1,\n",
       "                               objective=&#x27;multi:softprob&#x27;, predictor=&#x27;auto&#x27;,\n",
       "                               random_state=0, reg_alpha=0, ...))])</pre></div></div></div><div class=\"sk-serial\"><div class=\"sk-item sk-dashed-wrapped\"><div class=\"sk-label-container\"><div class=\"sk-label sk-toggleable\"><input class=\"sk-toggleable__control sk-hidden--visually\" id=\"sk-estimator-id-11\" type=\"checkbox\" ><label for=\"sk-estimator-id-11\" class=\"sk-toggleable__label sk-toggleable__label-arrow\">preprocessor: ColumnTransformer</label><div class=\"sk-toggleable__content\"><pre>ColumnTransformer(remainder=&#x27;passthrough&#x27;,\n",
       "                  transformers=[(&#x27;drop&#x27;, &#x27;drop&#x27;, [&#x27;id&#x27;, &#x27;date_recorded&#x27;]),\n",
       "                                (&#x27;onehot&#x27;, OneHotEncoder(),\n",
       "                                 [&#x27;funder&#x27;, &#x27;installer&#x27;, &#x27;wpt_name&#x27;, &#x27;basin&#x27;,\n",
       "                                  &#x27;subvillage&#x27;, &#x27;region&#x27;, &#x27;lga&#x27;, &#x27;ward&#x27;,\n",
       "                                  &#x27;public_meeting&#x27;, &#x27;recorded_by&#x27;,\n",
       "                                  &#x27;scheme_management&#x27;, &#x27;scheme_name&#x27;, &#x27;permit&#x27;,\n",
       "                                  &#x27;extraction_type&#x27;, &#x27;extraction_type_group&#x27;,\n",
       "                                  &#x27;extraction_type_class&#x27;, &#x27;management&#x27;,\n",
       "                                  &#x27;management_group&#x27;, &#x27;payment&#x27;, &#x27;payment_type&#x27;,\n",
       "                                  &#x27;water_quality&#x27;, &#x27;quality_group&#x27;, &#x27;quantity&#x27;,\n",
       "                                  &#x27;quantity_group&#x27;, &#x27;source&#x27;, &#x27;source_type&#x27;,\n",
       "                                  &#x27;source_class&#x27;, &#x27;waterpoint_type&#x27;,\n",
       "                                  &#x27;waterpoint_type_group&#x27;])])</pre></div></div></div><div class=\"sk-parallel\"><div class=\"sk-parallel-item\"><div class=\"sk-item\"><div class=\"sk-label-container\"><div class=\"sk-label sk-toggleable\"><input class=\"sk-toggleable__control sk-hidden--visually\" id=\"sk-estimator-id-12\" type=\"checkbox\" ><label for=\"sk-estimator-id-12\" class=\"sk-toggleable__label sk-toggleable__label-arrow\">drop</label><div class=\"sk-toggleable__content\"><pre>[&#x27;id&#x27;, &#x27;date_recorded&#x27;]</pre></div></div></div><div class=\"sk-serial\"><div class=\"sk-item\"><div class=\"sk-estimator sk-toggleable\"><input class=\"sk-toggleable__control sk-hidden--visually\" id=\"sk-estimator-id-13\" type=\"checkbox\" ><label for=\"sk-estimator-id-13\" class=\"sk-toggleable__label sk-toggleable__label-arrow\">drop</label><div class=\"sk-toggleable__content\"><pre>drop</pre></div></div></div></div></div></div><div class=\"sk-parallel-item\"><div class=\"sk-item\"><div class=\"sk-label-container\"><div class=\"sk-label sk-toggleable\"><input class=\"sk-toggleable__control sk-hidden--visually\" id=\"sk-estimator-id-14\" type=\"checkbox\" ><label for=\"sk-estimator-id-14\" class=\"sk-toggleable__label sk-toggleable__label-arrow\">onehot</label><div class=\"sk-toggleable__content\"><pre>[&#x27;funder&#x27;, &#x27;installer&#x27;, &#x27;wpt_name&#x27;, &#x27;basin&#x27;, &#x27;subvillage&#x27;, &#x27;region&#x27;, &#x27;lga&#x27;, &#x27;ward&#x27;, &#x27;public_meeting&#x27;, &#x27;recorded_by&#x27;, &#x27;scheme_management&#x27;, &#x27;scheme_name&#x27;, &#x27;permit&#x27;, &#x27;extraction_type&#x27;, &#x27;extraction_type_group&#x27;, &#x27;extraction_type_class&#x27;, &#x27;management&#x27;, &#x27;management_group&#x27;, &#x27;payment&#x27;, &#x27;payment_type&#x27;, &#x27;water_quality&#x27;, &#x27;quality_group&#x27;, &#x27;quantity&#x27;, &#x27;quantity_group&#x27;, &#x27;source&#x27;, &#x27;source_type&#x27;, &#x27;source_class&#x27;, &#x27;waterpoint_type&#x27;, &#x27;waterpoint_type_group&#x27;]</pre></div></div></div><div class=\"sk-serial\"><div class=\"sk-item\"><div class=\"sk-estimator sk-toggleable\"><input class=\"sk-toggleable__control sk-hidden--visually\" id=\"sk-estimator-id-15\" type=\"checkbox\" ><label for=\"sk-estimator-id-15\" class=\"sk-toggleable__label sk-toggleable__label-arrow\">OneHotEncoder</label><div class=\"sk-toggleable__content\"><pre>OneHotEncoder()</pre></div></div></div></div></div></div><div class=\"sk-parallel-item\"><div class=\"sk-item\"><div class=\"sk-label-container\"><div class=\"sk-label sk-toggleable\"><input class=\"sk-toggleable__control sk-hidden--visually\" id=\"sk-estimator-id-16\" type=\"checkbox\" ><label for=\"sk-estimator-id-16\" class=\"sk-toggleable__label sk-toggleable__label-arrow\">remainder</label><div class=\"sk-toggleable__content\"><pre>[&#x27;amount_tsh&#x27;, &#x27;gps_height&#x27;, &#x27;longitude&#x27;, &#x27;latitude&#x27;, &#x27;num_private&#x27;, &#x27;region_code&#x27;, &#x27;district_code&#x27;, &#x27;population&#x27;, &#x27;construction_year&#x27;]</pre></div></div></div><div class=\"sk-serial\"><div class=\"sk-item\"><div class=\"sk-estimator sk-toggleable\"><input class=\"sk-toggleable__control sk-hidden--visually\" id=\"sk-estimator-id-17\" type=\"checkbox\" ><label for=\"sk-estimator-id-17\" class=\"sk-toggleable__label sk-toggleable__label-arrow\">passthrough</label><div class=\"sk-toggleable__content\"><pre>passthrough</pre></div></div></div></div></div></div></div></div><div class=\"sk-item\"><div class=\"sk-estimator sk-toggleable\"><input class=\"sk-toggleable__control sk-hidden--visually\" id=\"sk-estimator-id-18\" type=\"checkbox\" ><label for=\"sk-estimator-id-18\" class=\"sk-toggleable__label sk-toggleable__label-arrow\">XGBClassifier</label><div class=\"sk-toggleable__content\"><pre>XGBClassifier(base_score=0.5, booster=&#x27;gbtree&#x27;, callbacks=None,\n",
       "              colsample_bylevel=1, colsample_bynode=1, colsample_bytree=1,\n",
       "              early_stopping_rounds=None, enable_categorical=False,\n",
       "              eval_metric=None, gamma=0, gpu_id=-1, grow_policy=&#x27;depthwise&#x27;,\n",
       "              importance_type=None, interaction_constraints=&#x27;&#x27;,\n",
       "              learning_rate=0.300000012, max_bin=256, max_cat_to_onehot=4,\n",
       "              max_delta_step=0, max_depth=6, max_leaves=0, min_child_weight=1,\n",
       "              missing=nan, monotone_constraints=&#x27;()&#x27;, n_estimators=100,\n",
       "              n_jobs=0, num_parallel_tree=1, objective=&#x27;multi:softprob&#x27;,\n",
       "              predictor=&#x27;auto&#x27;, random_state=0, reg_alpha=0, ...)</pre></div></div></div></div></div></div></div>"
      ],
      "text/plain": [
       "Pipeline(steps=[('preprocessor',\n",
       "                 ColumnTransformer(remainder='passthrough',\n",
       "                                   transformers=[('drop', 'drop',\n",
       "                                                  ['id', 'date_recorded']),\n",
       "                                                 ('onehot', OneHotEncoder(),\n",
       "                                                  ['funder', 'installer',\n",
       "                                                   'wpt_name', 'basin',\n",
       "                                                   'subvillage', 'region',\n",
       "                                                   'lga', 'ward',\n",
       "                                                   'public_meeting',\n",
       "                                                   'recorded_by',\n",
       "                                                   'scheme_management',\n",
       "                                                   'scheme_name', 'permit',\n",
       "                                                   'extraction_type',\n",
       "                                                   'extraction_type_group',\n",
       "                                                   'extr...\n",
       "                               gamma=0, gpu_id=-1, grow_policy='depthwise',\n",
       "                               importance_type=None, interaction_constraints='',\n",
       "                               learning_rate=0.300000012, max_bin=256,\n",
       "                               max_cat_to_onehot=4, max_delta_step=0,\n",
       "                               max_depth=6, max_leaves=0, min_child_weight=1,\n",
       "                               missing=nan, monotone_constraints='()',\n",
       "                               n_estimators=100, n_jobs=0, num_parallel_tree=1,\n",
       "                               objective='multi:softprob', predictor='auto',\n",
       "                               random_state=0, reg_alpha=0, ...))])"
      ]
     },
     "execution_count": 28,
     "metadata": {},
     "output_type": "execute_result"
    }
   ],
   "source": [
    "#### ---------------------- complete steps to go through one iteration ---------------------- ####\n",
    "\n",
    "# Encoding the target variable\n",
    "target_encoder = LabelEncoder().fit(y_train)\n",
    "y_train_encoded = target_encoder.transform(y_train)\n",
    "\n",
    "\n",
    "# Columns to drop and to apply one-hot encoding\n",
    "columns_to_drop = ['id','date_recorded']\n",
    "columns_to_encode = ['funder','installer','wpt_name','basin','subvillage','region','lga','ward','public_meeting'\n",
    "                     ,'recorded_by','scheme_management','scheme_name','permit','extraction_type','extraction_type_group'\n",
    "                     ,'extraction_type_class','management','management_group','payment','payment_type','water_quality'\n",
    "                     ,'quality_group','quantity','quantity_group','source','source_type','source_class','waterpoint_type'\n",
    "                     ,'waterpoint_type_group']\n",
    "\n",
    "# Column transformer\n",
    "preprocessor = ColumnTransformer(\n",
    "    transformers=[\n",
    "        ('drop', 'drop', columns_to_drop),\n",
    "        ('onehot', OneHotEncoder(), columns_to_encode)\n",
    "    ],\n",
    "    remainder='passthrough'  # keeps the columns not specified in transformers\n",
    ")\n",
    "# Define the CatBoost model\n",
    "xg_model = XGBClassifier(verbose=False)\n",
    "# Create pipeline\n",
    "pipeline_1 = Pipeline(steps=[('preprocessor', preprocessor),\n",
    "                           ('classifier', xg_model)])\n",
    "\n",
    "\n",
    "# Perform cross-validation and then calculate scores\n",
    "pipeline_1.fit(X_train, y_train_encoded)\n",
    "\n"
   ]
  },
  {
   "cell_type": "code",
   "execution_count": null,
   "metadata": {},
   "outputs": [],
   "source": [
    "# # Make predictions\n",
    "# predictions_encoded = pipeline_1.predict(X_test)\n",
    "\n",
    "# predictions = target_encoder.inverse_transform(predictions_encoded)"
   ]
  },
  {
   "cell_type": "code",
   "execution_count": 38,
   "metadata": {},
   "outputs": [
    {
     "name": "stderr",
     "output_type": "stream",
     "text": [
      "[I 2024-01-12 12:28:08,446] A new study created in memory with name: no-name-5510c16e-3290-42d5-8113-39965277ea5d\n"
     ]
    },
    {
     "name": "stderr",
     "output_type": "stream",
     "text": [
      "[I 2024-01-12 12:33:26,562] Trial 0 finished with value: 0.4793813316645279 and parameters: {'n_estimators': 504, 'learning_rate': 0.0027992002193266406, 'max_depth': 3, 'min_child_weight': 3, 'subsample': 0.829830554105345, 'colsample_bytree': 0.8558971605279979, 'gamma': 1.6857607369227356, 'reg_lambda': 0.9021657559978916, 'reg_alpha': 0.11894007301599628}. Best is trial 0 with value: 0.4793813316645279.\n"
     ]
    },
    {
     "name": "stdout",
     "output_type": "stream",
     "text": [
      "{'n_estimators': 504, 'learning_rate': 0.0027992002193266406, 'max_depth': 3, 'min_child_weight': 3, 'subsample': 0.829830554105345, 'colsample_bytree': 0.8558971605279979, 'gamma': 1.6857607369227356, 'reg_lambda': 0.9021657559978916, 'reg_alpha': 0.11894007301599628}\n"
     ]
    }
   ],
   "source": [
    "####### ---------------------- optuna to tune ---------------------- #######\n",
    "\n",
    "# Encoding the target variable\n",
    "target_encoder = LabelEncoder().fit(y_train)\n",
    "y_train_encoded = target_encoder.transform(y_train)\n",
    "def objective(trial,X,y):\n",
    "    # Hyperparameters to tune\n",
    "\n",
    "    param = {\n",
    "        'objective': 'multi:softprob',\n",
    "        'num_class': 3,\n",
    "        'eval_metric': 'mlogloss',  \n",
    "        'n_estimators': trial.suggest_int(\"n_estimators\", 100, 1000),  \n",
    "        'learning_rate': trial.suggest_float(\"learning_rate\", 1e-3, 0.1, log=True),\n",
    "        'max_depth': trial.suggest_int(\"max_depth\", 3, 10),  \n",
    "        'min_child_weight': trial.suggest_int(\"min_child_weight\", 1, 10),  \n",
    "        'subsample': trial.suggest_float(\"subsample\", 0.5, 1.0),\n",
    "        'colsample_bytree': trial.suggest_float(\"colsample_bytree\", 0.5, 1.0),  \n",
    "        'gamma': trial.suggest_float(\"gamma\", 0, 5),  \n",
    "        'reg_lambda': trial.suggest_float(\"reg_lambda\", 1e-2, 1.0, log=True),  \n",
    "        'reg_alpha': trial.suggest_float(\"reg_alpha\", 1e-2, 1.0, log=True)  \n",
    "    }\n",
    "    \n",
    "\n",
    "    columns_to_drop = ['id','date_recorded']\n",
    "    columns_to_encode = ['funder','installer','wpt_name','basin','subvillage','region','lga','ward','public_meeting'\n",
    "                        ,'recorded_by','scheme_management','scheme_name','permit','extraction_type','extraction_type_group'\n",
    "                        ,'extraction_type_class','management','management_group','payment','payment_type','water_quality'\n",
    "                        ,'quality_group','quantity','quantity_group','source','source_type','source_class','waterpoint_type'\n",
    "                        ,'waterpoint_type_group']\n",
    "    # Column transformer\n",
    "    preprocessor = ColumnTransformer(\n",
    "        transformers=[\n",
    "            ('drop', 'drop', columns_to_drop),\n",
    "            ('onehot', OneHotEncoder(handle_unknown='ignore'), columns_to_encode)\n",
    "\n",
    "        ],\n",
    "        remainder='passthrough'  # keeps the columns not specified in transformers\n",
    "    )\n",
    "\n",
    "    xg_model = XGBClassifier(**param)\n",
    "    # Create pipeline\n",
    "    pipeline = Pipeline(steps=[('preprocessor', preprocessor),\n",
    "                            ('classifier', xg_model)])\n",
    "\n",
    "    ########### CHANGE CV to higher number too - my laptop is crap ##################\n",
    "    scores = cross_val_score(pipeline, X, y, cv=3, scoring=\"f1_macro\")\n",
    "\n",
    "\n",
    "    return np.mean(scores)\n",
    "\n",
    "\n",
    "# Create a study object and specify the direction is 'maximize'.\n",
    "study = optuna.create_study(direction='maximize')\n",
    "\n",
    "# Start the optimization\n",
    "\n",
    "########### CHANGE ntrails to higher number too - my laptop is crap ##################\n",
    "study.optimize(lambda trial: objective(trial, X_train, y_train_encoded), n_trials=1,  gc_after_trial=True)\n",
    "\n",
    "\n",
    "print(study.best_params)"
   ]
  }
 ],
 "metadata": {
  "kernelspec": {
   "display_name": "Python 3",
   "language": "python",
   "name": "python3"
  },
  "language_info": {
   "codemirror_mode": {
    "name": "ipython",
    "version": 3
   },
   "file_extension": ".py",
   "mimetype": "text/x-python",
   "name": "python",
   "nbconvert_exporter": "python",
   "pygments_lexer": "ipython3",
   "version": "3.8.10"
  }
 },
 "nbformat": 4,
 "nbformat_minor": 2
}
